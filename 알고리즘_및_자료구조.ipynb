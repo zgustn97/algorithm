{
  "nbformat": 4,
  "nbformat_minor": 0,
  "metadata": {
    "colab": {
      "name": "알고리즘 및 자료구조.ipynb",
      "provenance": [],
      "collapsed_sections": [],
      "mount_file_id": "1R8C9fhO9MccqaTG_xNIxGEJXARHd2_YO",
      "authorship_tag": "ABX9TyMAUmZxeJOuowXPW/amm0eO",
      "include_colab_link": true
    },
    "kernelspec": {
      "name": "python3",
      "display_name": "Python 3"
    },
    "language_info": {
      "name": "python"
    }
  },
  "cells": [
    {
      "cell_type": "markdown",
      "metadata": {
        "id": "view-in-github",
        "colab_type": "text"
      },
      "source": [
        "<a href=\"https://colab.research.google.com/github/zgustn97/algorithm/blob/main/%EC%95%8C%EA%B3%A0%EB%A6%AC%EC%A6%98_%EB%B0%8F_%EC%9E%90%EB%A3%8C%EA%B5%AC%EC%A1%B0.ipynb\" target=\"_parent\"><img src=\"https://colab.research.google.com/assets/colab-badge.svg\" alt=\"Open In Colab\"/></a>"
      ]
    },
    {
      "cell_type": "code",
      "metadata": {
        "colab": {
          "base_uri": "https://localhost:8080/"
        },
        "id": "uHbEuZZ7bHor",
        "outputId": "a6f88976-f53e-4b80-b2c5-bf3847072c11"
      },
      "source": [
        "print(\"hello\")"
      ],
      "execution_count": null,
      "outputs": [
        {
          "output_type": "stream",
          "name": "stdout",
          "text": [
            "hello\n"
          ]
        }
      ]
    }
  ]
}